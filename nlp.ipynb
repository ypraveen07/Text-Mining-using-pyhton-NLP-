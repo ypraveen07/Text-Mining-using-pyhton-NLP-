{
 "cells": [
  {
   "cell_type": "code",
   "execution_count": 4,
   "metadata": {},
   "outputs": [
    {
     "name": "stdout",
     "output_type": "stream",
     "text": [
      "['Young wicket-keeper Rishabh Pant and veteran batsman Ambati Rayudu were on Wednesday named among the standbys for India’s World Cup squad, reigniting their dashed hopes of making the trip to the UK in case an injury setback hits the side.Speedster Navdeep Saini also found a place in the list of three back-ups for the mega-event starting on May 30.Pant and Rayudu’s exclusion from the squad of 15 had created quite a stir on Monday.', 'While Sunil Gavaskar called Pant’s omission surprising, the snub to Rayudu was questioned by Gautam Gambhir.With the ICC doing away with the practice of letting countries announce a probables’ list before the final squad, the BCCI also has the option of including anyone apart from these three but it is unlikely to happen.']\n"
     ]
    }
   ],
   "source": [
    "import nltk\n",
    "\n",
    "from nltk.tokenize import sent_tokenize, word_tokenize\n",
    "\n",
    "EXAMPLE_TEXT = \"Young wicket-keeper Rishabh Pant and veteran batsman Ambati Rayudu were on Wednesday named among the standbys for India’s World Cup squad, reigniting their dashed hopes of making the trip to the UK in case an injury setback hits the side.Speedster Navdeep Saini also found a place in the list of three back-ups for the mega-event starting on May 30.Pant and Rayudu’s exclusion from the squad of 15 had created quite a stir on Monday. While Sunil Gavaskar called Pant’s omission surprising, the snub to Rayudu was questioned by Gautam Gambhir.With the ICC doing away with the practice of letting countries announce a probables’ list before the final squad, the BCCI also has the option of including anyone apart from these three but it is unlikely to happen.\"\n",
    "\n",
    "print(sent_tokenize(EXAMPLE_TEXT))\n"
   ]
  },
  {
   "cell_type": "code",
   "execution_count": 5,
   "metadata": {},
   "outputs": [
    {
     "name": "stdout",
     "output_type": "stream",
     "text": [
      "['Young', 'wicket-keeper', 'Rishabh', 'Pant', 'and', 'veteran', 'batsman', 'Ambati', 'Rayudu', 'were', 'on', 'Wednesday', 'named', 'among', 'the', 'standbys', 'for', 'India', '’', 's', 'World', 'Cup', 'squad', ',', 'reigniting', 'their', 'dashed', 'hopes', 'of', 'making', 'the', 'trip', 'to', 'the', 'UK', 'in', 'case', 'an', 'injury', 'setback', 'hits', 'the', 'side.Speedster', 'Navdeep', 'Saini', 'also', 'found', 'a', 'place', 'in', 'the', 'list', 'of', 'three', 'back-ups', 'for', 'the', 'mega-event', 'starting', 'on', 'May', '30.Pant', 'and', 'Rayudu', '’', 's', 'exclusion', 'from', 'the', 'squad', 'of', '15', 'had', 'created', 'quite', 'a', 'stir', 'on', 'Monday', '.', 'While', 'Sunil', 'Gavaskar', 'called', 'Pant', '’', 's', 'omission', 'surprising', ',', 'the', 'snub', 'to', 'Rayudu', 'was', 'questioned', 'by', 'Gautam', 'Gambhir.With', 'the', 'ICC', 'doing', 'away', 'with', 'the', 'practice', 'of', 'letting', 'countries', 'announce', 'a', 'probables', '’', 'list', 'before', 'the', 'final', 'squad', ',', 'the', 'BCCI', 'also', 'has', 'the', 'option', 'of', 'including', 'anyone', 'apart', 'from', 'these', 'three', 'but', 'it', 'is', 'unlikely', 'to', 'happen', '.']\n"
     ]
    },
    {
     "data": {
      "text/plain": [
       "139"
      ]
     },
     "execution_count": 5,
     "metadata": {},
     "output_type": "execute_result"
    }
   ],
   "source": [
    "print(word_tokenize(EXAMPLE_TEXT))\n",
    "len(word_tokenize(EXAMPLE_TEXT))"
   ]
  },
  {
   "cell_type": "code",
   "execution_count": 6,
   "metadata": {},
   "outputs": [
    {
     "name": "stdout",
     "output_type": "stream",
     "text": [
      "2\n"
     ]
    }
   ],
   "source": [
    "print(len(sent_tokenize(EXAMPLE_TEXT)))"
   ]
  },
  {
   "cell_type": "code",
   "execution_count": 7,
   "metadata": {},
   "outputs": [],
   "source": [
    "x = sent_tokenize(EXAMPLE_TEXT)"
   ]
  },
  {
   "cell_type": "code",
   "execution_count": 8,
   "metadata": {},
   "outputs": [
    {
     "data": {
      "text/plain": [
       "2"
      ]
     },
     "execution_count": 8,
     "metadata": {},
     "output_type": "execute_result"
    }
   ],
   "source": [
    "len(x)"
   ]
  },
  {
   "cell_type": "code",
   "execution_count": 9,
   "metadata": {},
   "outputs": [
    {
     "data": {
      "text/plain": [
       "'Young wicket-keeper Rishabh Pant and veteran batsman Ambati Rayudu were on Wednesday named among the standbys for India’s World Cup squad, reigniting their dashed hopes of making the trip to the UK in case an injury setback hits the side.Speedster Navdeep Saini also found a place in the list of three back-ups for the mega-event starting on May 30.Pant and Rayudu’s exclusion from the squad of 15 had created quite a stir on Monday.'"
      ]
     },
     "execution_count": 9,
     "metadata": {},
     "output_type": "execute_result"
    }
   ],
   "source": [
    "x[0]"
   ]
  },
  {
   "cell_type": "code",
   "execution_count": 10,
   "metadata": {},
   "outputs": [
    {
     "name": "stdout",
     "output_type": "stream",
     "text": [
      "{'needn', 'what', 'for', 'whom', 'it', 'have', 'didn', 'he', 'these', 't', 'your', 've', 'their', 'can', 'll', 'the', 'over', 'then', 'couldn', 'same', 'i', 'was', 'from', 'own', 'because', 'more', 'up', 'as', 'other', 'mightn', 'here', 'between', 'during', 'but', 'again', 'that', 'about', 'won', \"should've\", 'yours', 'before', \"you've\", 'd', 'there', 'him', 'doing', \"wouldn't\", \"don't\", 'hers', 'mustn', \"wasn't\", 'y', \"mustn't\", 'm', 'below', 'only', 'has', 'her', \"isn't\", 'having', 'until', 'doesn', \"shan't\", 'under', 'be', \"you're\", 'when', 'who', 'theirs', 'do', 'had', \"you'll\", 'his', 'shan', 'weren', 'itself', 'been', 'any', 'they', 'some', 'herself', 'them', 'down', 'is', 'myself', 'ain', 'once', \"doesn't\", \"weren't\", 'ourselves', \"didn't\", 'above', 'will', 'don', 'why', 'isn', 'no', 'and', 'to', 'how', 'am', 'are', 'haven', 'not', 'o', 'such', \"haven't\", 'where', 'into', 'shouldn', 'nor', 'wouldn', 'hadn', 'me', 'a', 'does', 'than', \"hasn't\", 'or', 'yourselves', 'by', 'at', 'further', 'with', 'each', 'out', 'its', 'we', 'you', \"that'll\", 'wasn', 'off', \"it's\", 'all', 're', 'my', 'few', 'hasn', 'while', 'so', 'of', 'through', 'both', 'against', 'on', 'being', 'which', 'after', 'ma', 's', \"needn't\", 'yourself', \"she's\", 'this', 'an', 'himself', 'very', 'ours', 'should', 'those', 'did', 'too', 'themselves', 'just', \"shouldn't\", 'she', 'our', \"you'd\", 'aren', 'in', 'if', 'most', \"couldn't\", \"won't\", \"aren't\", 'were', \"mightn't\", \"hadn't\", 'now'}\n"
     ]
    }
   ],
   "source": [
    "from nltk.corpus import stopwords\n",
    "example_sent = EXAMPLE_TEXT\n",
    "\n",
    "stop_words = set(stopwords.words('english'))\n",
    "print(stop_words)"
   ]
  },
  {
   "cell_type": "code",
   "execution_count": 11,
   "metadata": {},
   "outputs": [
    {
     "name": "stdout",
     "output_type": "stream",
     "text": [
      "['Young', 'wicket-keeper', 'Rishabh', 'Pant', 'veteran', 'batsman', 'Ambati', 'Rayudu', 'Wednesday', 'named', 'among', 'standbys', 'India', '’', 'World', 'Cup', 'squad', ',', 'reigniting', 'dashed', 'hopes', 'making', 'trip', 'UK', 'case', 'injury', 'setback', 'hits', 'side.Speedster', 'Navdeep', 'Saini', 'also', 'found', 'place', 'list', 'three', 'back-ups', 'mega-event', 'starting', 'May', '30.Pant', 'Rayudu', '’', 'exclusion', 'squad', '15', 'created', 'quite', 'stir', 'Monday', '.', 'While', 'Sunil', 'Gavaskar', 'called', 'Pant', '’', 'omission', 'surprising', ',', 'snub', 'Rayudu', 'questioned', 'Gautam', 'Gambhir.With', 'ICC', 'away', 'practice', 'letting', 'countries', 'announce', 'probables', '’', 'list', 'final', 'squad', ',', 'BCCI', 'also', 'option', 'including', 'anyone', 'apart', 'three', 'unlikely', 'happen', '.']\n"
     ]
    },
    {
     "data": {
      "text/plain": [
       "87"
      ]
     },
     "execution_count": 11,
     "metadata": {},
     "output_type": "execute_result"
    }
   ],
   "source": [
    "\n",
    "word_tokens = word_tokenize(example_sent)\n",
    "\n",
    "#filtered_sentence = [w for w in word_tokens if not w in stop_words]\n",
    "\n",
    "filtered_sentence = []\n",
    "\n",
    "for w in word_tokens:\n",
    "    if w not in stop_words:\n",
    "        filtered_sentence.append(w)\n",
    "\n",
    "#print(word_tokens)\n",
    "print(filtered_sentence)\n",
    "len(filtered_sentence)"
   ]
  },
  {
   "cell_type": "code",
   "execution_count": 12,
   "metadata": {},
   "outputs": [
    {
     "name": "stdout",
     "output_type": "stream",
     "text": [
      "['Young', 'wicket-keeper', 'Rishabh', 'Pant', 'and', 'veteran', 'batsman', 'Ambati', 'Rayudu', 'were', 'on', 'Wednesday', 'named', 'among', 'the', 'standbys', 'for', 'India', '’', 's', 'World', 'Cup', 'squad', ',', 'reigniting', 'their', 'dashed', 'hopes', 'of', 'making', 'the', 'trip', 'to', 'the', 'UK', 'in', 'case', 'an', 'injury', 'setback', 'hits', 'the', 'side.Speedster', 'Navdeep', 'Saini', 'also', 'found', 'a', 'place', 'in', 'the', 'list', 'of', 'three', 'back-ups', 'for', 'the', 'mega-event', 'starting', 'on', 'May', '30.Pant', 'and', 'Rayudu', '’', 's', 'exclusion', 'from', 'the', 'squad', 'of', '15', 'had', 'created', 'quite', 'a', 'stir', 'on', 'Monday', '.', 'While', 'Sunil', 'Gavaskar', 'called', 'Pant', '’', 's', 'omission', 'surprising', ',', 'the', 'snub', 'to', 'Rayudu', 'was', 'questioned', 'by', 'Gautam', 'Gambhir.With', 'the', 'ICC', 'doing', 'away', 'with', 'the', 'practice', 'of', 'letting', 'countries', 'announce', 'a', 'probables', '’', 'list', 'before', 'the', 'final', 'squad', ',', 'the', 'BCCI', 'also', 'has', 'the', 'option', 'of', 'including', 'anyone', 'apart', 'from', 'these', 'three', 'but', 'it', 'is', 'unlikely', 'to', 'happen', '.']\n"
     ]
    }
   ],
   "source": [
    "print(word_tokenize(EXAMPLE_TEXT))"
   ]
  },
  {
   "cell_type": "code",
   "execution_count": 13,
   "metadata": {},
   "outputs": [
    {
     "name": "stdout",
     "output_type": "stream",
     "text": [
      "['i', 'me', 'my', 'myself', 'we', 'our', 'ours', 'ourselves', 'you', \"you're\", \"you've\", \"you'll\", \"you'd\", 'your', 'yours', 'yourself', 'yourselves', 'he', 'him', 'his', 'himself', 'she', \"she's\", 'her', 'hers', 'herself', 'it', \"it's\", 'its', 'itself', 'they', 'them', 'their', 'theirs', 'themselves', 'what', 'which', 'who', 'whom', 'this', 'that', \"that'll\", 'these', 'those', 'am', 'is', 'are', 'was', 'were', 'be', 'been', 'being', 'have', 'has', 'had', 'having', 'do', 'does', 'did', 'doing', 'a', 'an', 'the', 'and', 'but', 'if', 'or', 'because', 'as', 'until', 'while', 'of', 'at', 'by', 'for', 'with', 'about', 'against', 'between', 'into', 'through', 'during', 'before', 'after', 'above', 'below', 'to', 'from', 'up', 'down', 'in', 'out', 'on', 'off', 'over', 'under', 'again', 'further', 'then', 'once', 'here', 'there', 'when', 'where', 'why', 'how', 'all', 'any', 'both', 'each', 'few', 'more', 'most', 'other', 'some', 'such', 'no', 'nor', 'not', 'only', 'own', 'same', 'so', 'than', 'too', 'very', 's', 't', 'can', 'will', 'just', 'don', \"don't\", 'should', \"should've\", 'now', 'd', 'll', 'm', 'o', 're', 've', 'y', 'ain', 'aren', \"aren't\", 'couldn', \"couldn't\", 'didn', \"didn't\", 'doesn', \"doesn't\", 'hadn', \"hadn't\", 'hasn', \"hasn't\", 'haven', \"haven't\", 'isn', \"isn't\", 'ma', 'mightn', \"mightn't\", 'mustn', \"mustn't\", 'needn', \"needn't\", 'shan', \"shan't\", 'shouldn', \"shouldn't\", 'wasn', \"wasn't\", 'weren', \"weren't\", 'won', \"won't\", 'wouldn', \"wouldn't\", ',', '.', '?', 'inbox', 'even', 'They', 's', '’']\n"
     ]
    }
   ],
   "source": [
    "from nltk.text import Text\n",
    "\n",
    "stop_words = nltk.corpus.stopwords.words('english')\n",
    "newStopWords = [',', '.', \"?\",\"inbox\",\"even\",\"They\",\"s\",\"’\"]\n",
    "stop_words.extend(newStopWords)\n",
    "print(stop_words)"
   ]
  },
  {
   "cell_type": "code",
   "execution_count": null,
   "metadata": {},
   "outputs": [],
   "source": []
  },
  {
   "cell_type": "code",
   "execution_count": null,
   "metadata": {},
   "outputs": [],
   "source": [
    "print(filtered_sentence)\n",
    "len(filtered_sentence)"
   ]
  },
  {
   "cell_type": "code",
   "execution_count": 14,
   "metadata": {},
   "outputs": [
    {
     "name": "stdout",
     "output_type": "stream",
     "text": [
      "['Young', 'wicket-keeper', 'Rishabh', 'Pant', 'veteran', 'batsman', 'Ambati', 'Rayudu', 'Wednesday', 'named', 'among', 'standbys', 'India', 'World', 'Cup', 'squad', 'reigniting', 'dashed', 'hopes', 'making', 'trip', 'UK', 'case', 'injury', 'setback', 'hits', 'side.Speedster', 'Navdeep', 'Saini', 'also', 'found', 'place', 'list', 'three', 'back-ups', 'mega-event', 'starting', 'May', '30.Pant', 'Rayudu', 'exclusion', 'squad', '15', 'created', 'quite', 'stir', 'Monday', 'While', 'Sunil', 'Gavaskar', 'called', 'Pant', 'omission', 'surprising', 'snub', 'Rayudu', 'questioned', 'Gautam', 'Gambhir.With', 'ICC', 'away', 'practice', 'letting', 'countries', 'announce', 'probables', 'list', 'final', 'squad', 'BCCI', 'also', 'option', 'including', 'anyone', 'apart', 'three', 'unlikely', 'happen']\n"
     ]
    },
    {
     "data": {
      "text/plain": [
       "78"
      ]
     },
     "execution_count": 14,
     "metadata": {},
     "output_type": "execute_result"
    }
   ],
   "source": [
    "filtered_sentence2 = []\n",
    "\n",
    "for w in word_tokens:\n",
    "    if w not in stop_words:\n",
    "        filtered_sentence2.append(w)\n",
    "\n",
    "#print(word_tokens)\n",
    "print(filtered_sentence2)\n",
    "len(filtered_sentence2)"
   ]
  },
  {
   "cell_type": "code",
   "execution_count": 15,
   "metadata": {},
   "outputs": [
    {
     "name": "stdout",
     "output_type": "stream",
     "text": [
      "young\n",
      "wicket-keep\n",
      "rishabh\n",
      "pant\n",
      "veteran\n",
      "batsman\n",
      "ambati\n",
      "rayudu\n",
      "wednesday\n",
      "name\n",
      "among\n",
      "standbi\n",
      "india\n",
      "world\n",
      "cup\n",
      "squad\n",
      "reignit\n",
      "dash\n",
      "hope\n",
      "make\n",
      "trip\n",
      "UK\n",
      "case\n",
      "injuri\n",
      "setback\n",
      "hit\n",
      "side.speedst\n",
      "navdeep\n",
      "saini\n",
      "also\n",
      "found\n",
      "place\n",
      "list\n",
      "three\n",
      "back-up\n",
      "mega-ev\n",
      "start\n",
      "may\n",
      "30.pant\n",
      "rayudu\n",
      "exclus\n",
      "squad\n",
      "15\n",
      "creat\n",
      "quit\n",
      "stir\n",
      "monday\n",
      "while\n",
      "sunil\n",
      "gavaskar\n",
      "call\n",
      "pant\n",
      "omiss\n",
      "surpris\n",
      "snub\n",
      "rayudu\n",
      "question\n",
      "gautam\n",
      "gambhir.with\n",
      "icc\n",
      "away\n",
      "practic\n",
      "let\n",
      "countri\n",
      "announc\n",
      "probabl\n",
      "list\n",
      "final\n",
      "squad\n",
      "bcci\n",
      "also\n",
      "option\n",
      "includ\n",
      "anyon\n",
      "apart\n",
      "three\n",
      "unlik\n",
      "happen\n"
     ]
    }
   ],
   "source": [
    "from nltk.stem import PorterStemmer\n",
    "ps = PorterStemmer()\n",
    "#example_words = [\"python\",\"pythoner\",\"pythoning\",\"pythoned\",\"pythonly\"]\n",
    "for w in filtered_sentence2:\n",
    "    print(ps.stem(w))"
   ]
  },
  {
   "cell_type": "code",
   "execution_count": 16,
   "metadata": {},
   "outputs": [
    {
     "name": "stdout",
     "output_type": "stream",
     "text": [
      "Young\n",
      "wicket-keeper\n",
      "Rishabh\n",
      "Pant\n",
      "veteran\n",
      "batsman\n",
      "Ambati\n",
      "Rayudu\n",
      "Wednesday\n",
      "named\n",
      "among\n",
      "standby\n",
      "India\n",
      "World\n",
      "Cup\n",
      "squad\n",
      "reigniting\n",
      "dashed\n",
      "hope\n",
      "making\n",
      "trip\n",
      "UK\n",
      "case\n",
      "injury\n",
      "setback\n",
      "hit\n",
      "side.Speedster\n",
      "Navdeep\n",
      "Saini\n",
      "also\n",
      "found\n",
      "place\n",
      "list\n",
      "three\n",
      "back-ups\n",
      "mega-event\n",
      "starting\n",
      "May\n",
      "30.Pant\n",
      "Rayudu\n",
      "exclusion\n",
      "squad\n",
      "15\n",
      "created\n",
      "quite\n",
      "stir\n",
      "Monday\n",
      "While\n",
      "Sunil\n",
      "Gavaskar\n",
      "called\n",
      "Pant\n",
      "omission\n",
      "surprising\n",
      "snub\n",
      "Rayudu\n",
      "questioned\n",
      "Gautam\n",
      "Gambhir.With\n",
      "ICC\n",
      "away\n",
      "practice\n",
      "letting\n",
      "country\n",
      "announce\n",
      "probable\n",
      "list\n",
      "final\n",
      "squad\n",
      "BCCI\n",
      "also\n",
      "option\n",
      "including\n",
      "anyone\n",
      "apart\n",
      "three\n",
      "unlikely\n",
      "happen\n"
     ]
    }
   ],
   "source": [
    "\n",
    "from nltk.stem import WordNetLemmatizer\n",
    "lemmatizer = WordNetLemmatizer()\n",
    "\n",
    "\n",
    "for word in filtered_sentence2:\n",
    "    print(lemmatizer.lemmatize(word))"
   ]
  },
  {
   "cell_type": "code",
   "execution_count": 17,
   "metadata": {},
   "outputs": [
    {
     "data": {
      "text/plain": [
       "FreqDist({'Rayudu': 3, 'squad': 3, 'Pant': 2, 'also': 2, 'list': 2, 'three': 2, 'Young': 1, 'wicket-keeper': 1, 'Rishabh': 1, 'veteran': 1, ...})"
      ]
     },
     "execution_count": 17,
     "metadata": {},
     "output_type": "execute_result"
    }
   ],
   "source": [
    "fdist = nltk.FreqDist(filtered_sentence2)\n",
    "fdist"
   ]
  },
  {
   "cell_type": "code",
   "execution_count": 18,
   "metadata": {},
   "outputs": [
    {
     "data": {
      "image/png": "[encoded data removed]",
      "text/plain": [
       "<Figure size 432x288 with 1 Axes>"
      ]
     },
     "metadata": {
      "needs_background": "light"
     },
     "output_type": "display_data"
    }
   ],
   "source": [
    "import matplotlib.pyplot as plt\n",
    "fdist.plot(10,cumulative=False)"
   ]
  },
  {
   "cell_type": "code",
   "execution_count": 19,
   "metadata": {},
   "outputs": [],
   "source": [
    "from wordcloud import WordCloud"
   ]
  },
  {
   "cell_type": "code",
   "execution_count": 20,
   "metadata": {},
   "outputs": [],
   "source": [
    "\n",
    "import nltk\n",
    "import matplotlib.pyplot as plt\n",
    "from wordcloud import WordCloud\n",
    "\n",
    "#text = \"On the International Women’s Day 2019 website, the partners included McDonald’s, Amazon and Oracle. McDonald’s is facing flak in the U.S. for failing to pay its largely female workforce the minimum wage, Amazon is reported to have a huge gender diversity problem, and Oracle is facing a civil rights suit that alleges female employees were paid on average $13,000 less per year than men doing similar work. All three were apparently in support of the 2019 campaign theme, ‘Better the balance, better the world’. The irony of all this is particularly rich given that International Women’s Day has its origins in socialism. German socialist and feminist Clara Zetkin, who organised the first International Women’s Day, was a socialist first and a feminist next. In the magazine Die Gleichheit (Equality), Zetkin wrote in 1894: “Bourgeois feminism and the movement of proletarian women are two fundamentally different social movements.” Zetkin held that “bourgeois feminists” were not concerned with the conditions of working class women who were fighting not only against men who sought to suppress them, but also with men against a common oppressor, capitalism. She believed that as white, upper class feminists would only fight to better their own conditions, socialism was the only way to serve the needs of working class women.\"\n",
    "\n",
    "wordcloud = WordCloud().generate(EXAMPLE_TEXT)\n",
    "\n",
    "def plot_wordcloud(wordcloud):\n",
    "    plt.imshow(wordcloud)\n",
    "    plt.axis(\"off\")\n",
    "    plt.show()"
   ]
  },
  {
   "cell_type": "code",
   "execution_count": 23,
   "metadata": {},
   "outputs": [
    {
     "data": {
      "text/plain": [
       "FreqDist({' ': 126, 'e': 64, 'a': 60, 't': 53, 'n': 48, 'i': 44, 's': 39, 'o': 35, 'h': 29, 'r': 27, ...})"
      ]
     },
     "execution_count": 23,
     "metadata": {},
     "output_type": "execute_result"
    }
   ],
   "source": [
    "x = nltk.FreqDist(EXAMPLE_TEXT)\n",
    "x"
   ]
  },
  {
   "cell_type": "code",
   "execution_count": 21,
   "metadata": {
    "scrolled": true
   },
   "outputs": [
    {
     "data": {
      "image/png": "[encoded data removed]",
      "text/plain": [
       "<Figure size 432x288 with 1 Axes>"
      ]
     },
     "metadata": {
      "needs_background": "light"
     },
     "output_type": "display_data"
    }
   ],
   "source": [
    "plot_wordcloud(wordcloud)"
   ]
  },
  {
   "cell_type": "code",
   "execution_count": null,
   "metadata": {},
   "outputs": [],
   "source": []
  }
 ],
 "metadata": {
  "kernelspec": {
   "display_name": "Python 3",
   "language": "python",
   "name": "python3"
  },
  "language_info": {
   "codemirror_mode": {
    "name": "ipython",
    "version": 3
   },
   "file_extension": ".py",
   "mimetype": "text/x-python",
   "name": "python",
   "nbconvert_exporter": "python",
   "pygments_lexer": "ipython3",
   "version": "3.7.1"
  }
 },
 "nbformat": 4,
 "nbformat_minor": 2
}
