{
 "cells": [
  {
   "cell_type": "code",
   "execution_count": 9,
   "metadata": {},
   "outputs": [],
   "source": [
    "import pandas as pd\n",
    "import math as mt\n",
    "\n",
    "\n",
    "angl = []\n",
    "svalue = []\n",
    "cvalue = []\n",
    "avalue = []\n",
    "alpha = []\n",
    "beta = []"
   ]
  },
  {
   "cell_type": "code",
   "execution_count": 10,
   "metadata": {},
   "outputs": [
    {
     "name": "stdout",
     "output_type": "stream",
     "text": [
      "enter the lenght :10\n"
     ]
    }
   ],
   "source": [
    "\n",
    "lent = int(input(\"enter the lenght :\"))"
   ]
  },
  {
   "cell_type": "code",
   "execution_count": 11,
   "metadata": {},
   "outputs": [
    {
     "name": "stdout",
     "output_type": "stream",
     "text": [
      "enter theta value between -1 and + 1 :0.3\n",
      "enter theta value between -1 and + 1 :0.55\n",
      "enter theta value between -1 and + 1 :0.0\n",
      "enter theta value between -1 and + 1 :0.9\n",
      "enter theta value between -1 and + 1 :1\n",
      "enter theta value between -1 and + 1 :0.98\n",
      "enter theta value between -1 and + 1 :0.28\n",
      "enter theta value between -1 and + 1 :-1\n",
      "enter theta value between -1 and + 1 :0.63\n",
      "enter theta value between -1 and + 1 :0.51\n"
     ]
    }
   ],
   "source": [
    "for x in range(lent):\n",
    "    n = float(input(\"enter theta value between -1 and + 1 :\"))\n",
    "    if n <= 1 and n >= -1:\n",
    "        angl.append(n)\n",
    "    else:\n",
    "        print(\"angel should be between -1 and + 1\")\n",
    "        break\n",
    "  "
   ]
  },
  {
   "cell_type": "code",
   "execution_count": 12,
   "metadata": {},
   "outputs": [
    {
     "name": "stdout",
     "output_type": "stream",
     "text": [
      "enter s value which should be greater then c value:95\n",
      "enter s value which should be greater then c value:98\n",
      "enter s value which should be greater then c value:81\n",
      "enter s value which should be greater then c value:65\n",
      "enter s value which should be greater then c value:59\n",
      "enter s value which should be greater then c value:76\n",
      "enter s value which should be greater then c value:82\n",
      "enter s value which should be greater then c value:94\n",
      "enter s value which should be greater then c value:51\n",
      "enter s value which should be greater then c value:73\n"
     ]
    }
   ],
   "source": [
    "for x in range(lent):\n",
    "    n = int(input(\"enter s value which should be greater then c value:\"))\n",
    "    svalue.append(n)"
   ]
  },
  {
   "cell_type": "code",
   "execution_count": 13,
   "metadata": {},
   "outputs": [
    {
     "name": "stdout",
     "output_type": "stream",
     "text": [
      "enter c value which should be smaller then s value:23\n",
      "enter c value which should be smaller then s value:42\n",
      "enter c value which should be smaller then s value:15\n",
      "enter c value which should be smaller then s value:51\n",
      "enter c value which should be smaller then s value:20\n",
      "enter c value which should be smaller then s value:30\n",
      "enter c value which should be smaller then s value:35\n",
      "enter c value which should be smaller then s value:16\n",
      "enter c value which should be smaller then s value:46\n",
      "enter c value which should be smaller then s value:28\n"
     ]
    }
   ],
   "source": [
    "for x in range(lent):\n",
    "    n = int(input(\"enter c value which should be smaller then s value:\"))\n",
    "    if n < svalue[x]:\n",
    "        cvalue.append(n)\n",
    "    else:\n",
    "        print(\"c value which should be smaller then s value\")\n",
    "        break"
   ]
  },
  {
   "cell_type": "code",
   "execution_count": 14,
   "metadata": {},
   "outputs": [
    {
     "name": "stdout",
     "output_type": "stream",
     "text": [
      "enter  value  for a variable:65\n",
      "enter  value  for a variable:25\n",
      "enter  value  for a variable:45\n",
      "enter  value  for a variable:95\n",
      "enter  value  for a variable:67\n",
      "enter  value  for a variable:35\n",
      "enter  value  for a variable:35\n",
      "enter  value  for a variable:15\n",
      "enter  value  for a variable:26\n",
      "enter  value  for a variable:85\n"
     ]
    }
   ],
   "source": [
    "for x in range(lent):\n",
    "    n = int(input(\"enter  value  for a variable:\"))\n",
    "    avalue.append(n)\n",
    "    "
   ]
  },
  {
   "cell_type": "code",
   "execution_count": 15,
   "metadata": {},
   "outputs": [],
   "source": [
    "for x in range(len(angl)):\n",
    "    if svalue[x] > cvalue[x]:\n",
    "        al = 2*mt.asin(angl[x])*mt.sqrt(svalue[x]/(2*avalue[x]))\n",
    "        alpha.append(al)\n",
    "        bt = 2*mt.sin(angl[x])*mt.sqrt((svalue[x]-cvalue[x])/(2*avalue[x]))\n",
    "        beta.append(bt)\n",
    "        \n",
    "    else:\n",
    "        print(\"s value should be greater then c value\")"
   ]
  },
  {
   "cell_type": "code",
   "execution_count": 16,
   "metadata": {},
   "outputs": [
    {
     "name": "stdout",
     "output_type": "stream",
     "text": [
      "   Angel  s_value  a_value  c_value     Alpha      Beta\n",
      "0   0.30       95       65       23  0.520933  0.439857\n",
      "1   0.55       98       25       42  1.630620  1.106320\n",
      "2   0.00       81       45       15  0.000000  0.000000\n",
      "3   0.90       65       95       51  1.309901  0.425266\n",
      "4   1.00       59       67       20  2.084604  0.907923\n",
      "5   0.98       76       35       30  2.855976  1.346475\n",
      "6   0.28       82       35       35  0.614315  0.452896\n",
      "7  -1.00       94       15       16 -5.561004 -2.713662\n",
      "8   0.63       51       26       46  1.349936  0.365372\n",
      "9   0.51       73       85       28  0.701408  0.502330\n"
     ]
    }
   ],
   "source": [
    "alpha_beta = pd.DataFrame(\n",
    "    {'Angel': angl,\n",
    "     's_value': svalue,\n",
    "     'a_value': avalue,\n",
    "     'c_value': cvalue,\n",
    "     'Alpha': alpha,\n",
    "     'Beta': beta\n",
    "    })\n",
    "\n",
    "print(alpha_beta)"
   ]
  },
  {
   "cell_type": "code",
   "execution_count": 17,
   "metadata": {},
   "outputs": [
    {
     "name": "stdout",
     "output_type": "stream",
     "text": [
      "if any data is given in wrong manner then for every statement i have given else statement\n"
     ]
    }
   ],
   "source": [
    "print(\"if any data is given in wrong manner then for every statement i have given else statement\")"
   ]
  },
  {
   "cell_type": "code",
   "execution_count": null,
   "metadata": {},
   "outputs": [],
   "source": []
  }
 ],
 "metadata": {
  "kernelspec": {
   "display_name": "Python 3",
   "language": "python",
   "name": "python3"
  },
  "language_info": {
   "codemirror_mode": {
    "name": "ipython",
    "version": 3
   },
   "file_extension": ".py",
   "mimetype": "text/x-python",
   "name": "python",
   "nbconvert_exporter": "python",
   "pygments_lexer": "ipython3",
   "version": "3.7.1"
  }
 },
 "nbformat": 4,
 "nbformat_minor": 2
}
